{
 "cells": [
  {
   "cell_type": "code",
   "execution_count": 26,
   "id": "46e4815f",
   "metadata": {},
   "outputs": [],
   "source": [
    "import tensorflow as tf\n",
    "import tensorflow_hub as hub\n",
    "import tensorflow_text as text"
   ]
  },
  {
   "cell_type": "code",
   "execution_count": 27,
   "id": "58c0b6b5",
   "metadata": {},
   "outputs": [
    {
     "data": {
      "text/html": [
       "<div>\n",
       "<style scoped>\n",
       "    .dataframe tbody tr th:only-of-type {\n",
       "        vertical-align: middle;\n",
       "    }\n",
       "\n",
       "    .dataframe tbody tr th {\n",
       "        vertical-align: top;\n",
       "    }\n",
       "\n",
       "    .dataframe thead th {\n",
       "        text-align: right;\n",
       "    }\n",
       "</style>\n",
       "<table border=\"1\" class=\"dataframe\">\n",
       "  <thead>\n",
       "    <tr style=\"text-align: right;\">\n",
       "      <th></th>\n",
       "      <th>Category</th>\n",
       "      <th>Message</th>\n",
       "    </tr>\n",
       "  </thead>\n",
       "  <tbody>\n",
       "    <tr>\n",
       "      <th>0</th>\n",
       "      <td>ham</td>\n",
       "      <td>Go until jurong point, crazy.. Available only ...</td>\n",
       "    </tr>\n",
       "    <tr>\n",
       "      <th>1</th>\n",
       "      <td>ham</td>\n",
       "      <td>Ok lar... Joking wif u oni...</td>\n",
       "    </tr>\n",
       "    <tr>\n",
       "      <th>2</th>\n",
       "      <td>spam</td>\n",
       "      <td>Free entry in 2 a wkly comp to win FA Cup fina...</td>\n",
       "    </tr>\n",
       "    <tr>\n",
       "      <th>3</th>\n",
       "      <td>ham</td>\n",
       "      <td>U dun say so early hor... U c already then say...</td>\n",
       "    </tr>\n",
       "    <tr>\n",
       "      <th>4</th>\n",
       "      <td>ham</td>\n",
       "      <td>Nah I don't think he goes to usf, he lives aro...</td>\n",
       "    </tr>\n",
       "  </tbody>\n",
       "</table>\n",
       "</div>"
      ],
      "text/plain": [
       "  Category                                            Message\n",
       "0      ham  Go until jurong point, crazy.. Available only ...\n",
       "1      ham                      Ok lar... Joking wif u oni...\n",
       "2     spam  Free entry in 2 a wkly comp to win FA Cup fina...\n",
       "3      ham  U dun say so early hor... U c already then say...\n",
       "4      ham  Nah I don't think he goes to usf, he lives aro..."
      ]
     },
     "execution_count": 27,
     "metadata": {},
     "output_type": "execute_result"
    }
   ],
   "source": [
    "import pandas as pd\n",
    "\n",
    "df = pd.read_csv(\"spam.csv\")\n",
    "\n",
    "\n",
    "df.rename(columns = {'v1':'Category','v2':'Message'}, inplace = True)\n",
    "\n",
    "df=df[['Category','Message']]\n",
    "df.head(5)"
   ]
  },
  {
   "cell_type": "code",
   "execution_count": 28,
   "id": "8471f5f5",
   "metadata": {},
   "outputs": [
    {
     "data": {
      "text/html": [
       "<div>\n",
       "<style scoped>\n",
       "    .dataframe tbody tr th:only-of-type {\n",
       "        vertical-align: middle;\n",
       "    }\n",
       "\n",
       "    .dataframe tbody tr th {\n",
       "        vertical-align: top;\n",
       "    }\n",
       "\n",
       "    .dataframe thead tr th {\n",
       "        text-align: left;\n",
       "    }\n",
       "\n",
       "    .dataframe thead tr:last-of-type th {\n",
       "        text-align: right;\n",
       "    }\n",
       "</style>\n",
       "<table border=\"1\" class=\"dataframe\">\n",
       "  <thead>\n",
       "    <tr>\n",
       "      <th></th>\n",
       "      <th colspan=\"4\" halign=\"left\">Message</th>\n",
       "    </tr>\n",
       "    <tr>\n",
       "      <th></th>\n",
       "      <th>count</th>\n",
       "      <th>unique</th>\n",
       "      <th>top</th>\n",
       "      <th>freq</th>\n",
       "    </tr>\n",
       "    <tr>\n",
       "      <th>Category</th>\n",
       "      <th></th>\n",
       "      <th></th>\n",
       "      <th></th>\n",
       "      <th></th>\n",
       "    </tr>\n",
       "  </thead>\n",
       "  <tbody>\n",
       "    <tr>\n",
       "      <th>ham</th>\n",
       "      <td>4825</td>\n",
       "      <td>4516</td>\n",
       "      <td>Sorry, I'll call later</td>\n",
       "      <td>30</td>\n",
       "    </tr>\n",
       "    <tr>\n",
       "      <th>spam</th>\n",
       "      <td>747</td>\n",
       "      <td>653</td>\n",
       "      <td>Please call our customer service representativ...</td>\n",
       "      <td>4</td>\n",
       "    </tr>\n",
       "  </tbody>\n",
       "</table>\n",
       "</div>"
      ],
      "text/plain": [
       "         Message                                                            \\\n",
       "           count unique                                                top   \n",
       "Category                                                                     \n",
       "ham         4825   4516                             Sorry, I'll call later   \n",
       "spam         747    653  Please call our customer service representativ...   \n",
       "\n",
       "               \n",
       "         freq  \n",
       "Category       \n",
       "ham        30  \n",
       "spam        4  "
      ]
     },
     "execution_count": 28,
     "metadata": {},
     "output_type": "execute_result"
    }
   ],
   "source": [
    "df.groupby('Category').describe()"
   ]
  },
  {
   "cell_type": "code",
   "execution_count": 29,
   "id": "49a186cc",
   "metadata": {},
   "outputs": [
    {
     "data": {
      "text/plain": [
       "ham     4825\n",
       "spam     747\n",
       "Name: Category, dtype: int64"
      ]
     },
     "execution_count": 29,
     "metadata": {},
     "output_type": "execute_result"
    }
   ],
   "source": [
    "df['Category'].value_counts()"
   ]
  },
  {
   "cell_type": "code",
   "execution_count": 5,
   "id": "894e9093",
   "metadata": {},
   "outputs": [
    {
     "data": {
      "text/plain": [
       "(747, 2)"
      ]
     },
     "execution_count": 5,
     "metadata": {},
     "output_type": "execute_result"
    }
   ],
   "source": [
    "df_spam = df[df['Category']=='spam']\n",
    "df_spam.shape"
   ]
  },
  {
   "cell_type": "code",
   "execution_count": 30,
   "id": "d3f0b2db",
   "metadata": {},
   "outputs": [
    {
     "data": {
      "text/html": [
       "<div>\n",
       "<style scoped>\n",
       "    .dataframe tbody tr th:only-of-type {\n",
       "        vertical-align: middle;\n",
       "    }\n",
       "\n",
       "    .dataframe tbody tr th {\n",
       "        vertical-align: top;\n",
       "    }\n",
       "\n",
       "    .dataframe thead th {\n",
       "        text-align: right;\n",
       "    }\n",
       "</style>\n",
       "<table border=\"1\" class=\"dataframe\">\n",
       "  <thead>\n",
       "    <tr style=\"text-align: right;\">\n",
       "      <th></th>\n",
       "      <th>Category</th>\n",
       "      <th>Message</th>\n",
       "    </tr>\n",
       "  </thead>\n",
       "  <tbody>\n",
       "    <tr>\n",
       "      <th>2</th>\n",
       "      <td>spam</td>\n",
       "      <td>Free entry in 2 a wkly comp to win FA Cup fina...</td>\n",
       "    </tr>\n",
       "    <tr>\n",
       "      <th>5</th>\n",
       "      <td>spam</td>\n",
       "      <td>FreeMsg Hey there darling it's been 3 week's n...</td>\n",
       "    </tr>\n",
       "    <tr>\n",
       "      <th>8</th>\n",
       "      <td>spam</td>\n",
       "      <td>WINNER!! As a valued network customer you have...</td>\n",
       "    </tr>\n",
       "    <tr>\n",
       "      <th>9</th>\n",
       "      <td>spam</td>\n",
       "      <td>Had your mobile 11 months or more? U R entitle...</td>\n",
       "    </tr>\n",
       "    <tr>\n",
       "      <th>11</th>\n",
       "      <td>spam</td>\n",
       "      <td>SIX chances to win CASH! From 100 to 20,000 po...</td>\n",
       "    </tr>\n",
       "    <tr>\n",
       "      <th>...</th>\n",
       "      <td>...</td>\n",
       "      <td>...</td>\n",
       "    </tr>\n",
       "    <tr>\n",
       "      <th>5537</th>\n",
       "      <td>spam</td>\n",
       "      <td>Want explicit SEX in 30 secs? Ring 02073162414...</td>\n",
       "    </tr>\n",
       "    <tr>\n",
       "      <th>5540</th>\n",
       "      <td>spam</td>\n",
       "      <td>ASKED 3MOBILE IF 0870 CHATLINES INCLU IN FREE ...</td>\n",
       "    </tr>\n",
       "    <tr>\n",
       "      <th>5547</th>\n",
       "      <td>spam</td>\n",
       "      <td>Had your contract mobile 11 Mnths? Latest Moto...</td>\n",
       "    </tr>\n",
       "    <tr>\n",
       "      <th>5566</th>\n",
       "      <td>spam</td>\n",
       "      <td>REMINDER FROM O2: To get 2.50 pounds free call...</td>\n",
       "    </tr>\n",
       "    <tr>\n",
       "      <th>5567</th>\n",
       "      <td>spam</td>\n",
       "      <td>This is the 2nd time we have tried 2 contact u...</td>\n",
       "    </tr>\n",
       "  </tbody>\n",
       "</table>\n",
       "<p>747 rows × 2 columns</p>\n",
       "</div>"
      ],
      "text/plain": [
       "     Category                                            Message\n",
       "2        spam  Free entry in 2 a wkly comp to win FA Cup fina...\n",
       "5        spam  FreeMsg Hey there darling it's been 3 week's n...\n",
       "8        spam  WINNER!! As a valued network customer you have...\n",
       "9        spam  Had your mobile 11 months or more? U R entitle...\n",
       "11       spam  SIX chances to win CASH! From 100 to 20,000 po...\n",
       "...       ...                                                ...\n",
       "5537     spam  Want explicit SEX in 30 secs? Ring 02073162414...\n",
       "5540     spam  ASKED 3MOBILE IF 0870 CHATLINES INCLU IN FREE ...\n",
       "5547     spam  Had your contract mobile 11 Mnths? Latest Moto...\n",
       "5566     spam  REMINDER FROM O2: To get 2.50 pounds free call...\n",
       "5567     spam  This is the 2nd time we have tried 2 contact u...\n",
       "\n",
       "[747 rows x 2 columns]"
      ]
     },
     "execution_count": 30,
     "metadata": {},
     "output_type": "execute_result"
    }
   ],
   "source": [
    "df_spam"
   ]
  },
  {
   "cell_type": "code",
   "execution_count": 31,
   "id": "7e8b1b91",
   "metadata": {},
   "outputs": [
    {
     "data": {
      "text/plain": [
       "(4825, 2)"
      ]
     },
     "execution_count": 31,
     "metadata": {},
     "output_type": "execute_result"
    }
   ],
   "source": [
    "df_ham = df[df['Category']=='ham']\n",
    "df_ham.shape"
   ]
  },
  {
   "cell_type": "code",
   "execution_count": 32,
   "id": "18d002aa",
   "metadata": {},
   "outputs": [
    {
     "data": {
      "text/plain": [
       "(747, 2)"
      ]
     },
     "execution_count": 32,
     "metadata": {},
     "output_type": "execute_result"
    }
   ],
   "source": [
    "df_ham_downsampled = df_ham.sample(df_spam.shape[0])\n",
    "df_ham_downsampled.shape"
   ]
  },
  {
   "cell_type": "code",
   "execution_count": 33,
   "id": "fd685b61",
   "metadata": {},
   "outputs": [
    {
     "data": {
      "text/html": [
       "<div>\n",
       "<style scoped>\n",
       "    .dataframe tbody tr th:only-of-type {\n",
       "        vertical-align: middle;\n",
       "    }\n",
       "\n",
       "    .dataframe tbody tr th {\n",
       "        vertical-align: top;\n",
       "    }\n",
       "\n",
       "    .dataframe thead th {\n",
       "        text-align: right;\n",
       "    }\n",
       "</style>\n",
       "<table border=\"1\" class=\"dataframe\">\n",
       "  <thead>\n",
       "    <tr style=\"text-align: right;\">\n",
       "      <th></th>\n",
       "      <th>Category</th>\n",
       "      <th>Message</th>\n",
       "    </tr>\n",
       "  </thead>\n",
       "  <tbody>\n",
       "    <tr>\n",
       "      <th>3735</th>\n",
       "      <td>ham</td>\n",
       "      <td>Hows the street where the end of library walk is?</td>\n",
       "    </tr>\n",
       "    <tr>\n",
       "      <th>3336</th>\n",
       "      <td>ham</td>\n",
       "      <td>I AM AT THE GAS STATION. GO THERE.</td>\n",
       "    </tr>\n",
       "    <tr>\n",
       "      <th>2706</th>\n",
       "      <td>ham</td>\n",
       "      <td>S now only i took tablets . Reaction morning o...</td>\n",
       "    </tr>\n",
       "    <tr>\n",
       "      <th>2905</th>\n",
       "      <td>ham</td>\n",
       "      <td>Helloooo... Wake up..! \\Sweet\\\" \\\"morning\\\" \\\"...</td>\n",
       "    </tr>\n",
       "    <tr>\n",
       "      <th>1097</th>\n",
       "      <td>ham</td>\n",
       "      <td>Don't fret. I'll buy the ovulation test strips...</td>\n",
       "    </tr>\n",
       "    <tr>\n",
       "      <th>...</th>\n",
       "      <td>...</td>\n",
       "      <td>...</td>\n",
       "    </tr>\n",
       "    <tr>\n",
       "      <th>2564</th>\n",
       "      <td>ham</td>\n",
       "      <td>Under the sea, there lays a rock. In the rock,...</td>\n",
       "    </tr>\n",
       "    <tr>\n",
       "      <th>4445</th>\n",
       "      <td>ham</td>\n",
       "      <td>Merry christmas to u too annie!</td>\n",
       "    </tr>\n",
       "    <tr>\n",
       "      <th>2483</th>\n",
       "      <td>ham</td>\n",
       "      <td>Mm have some kanji dont eat anything heavy ok</td>\n",
       "    </tr>\n",
       "    <tr>\n",
       "      <th>1684</th>\n",
       "      <td>ham</td>\n",
       "      <td>Do you want bold 2 or bb torch</td>\n",
       "    </tr>\n",
       "    <tr>\n",
       "      <th>697</th>\n",
       "      <td>ham</td>\n",
       "      <td>meet you in corporation st outside gap ��_ you...</td>\n",
       "    </tr>\n",
       "  </tbody>\n",
       "</table>\n",
       "<p>747 rows × 2 columns</p>\n",
       "</div>"
      ],
      "text/plain": [
       "     Category                                            Message\n",
       "3735      ham  Hows the street where the end of library walk is?\n",
       "3336      ham                 I AM AT THE GAS STATION. GO THERE.\n",
       "2706      ham  S now only i took tablets . Reaction morning o...\n",
       "2905      ham  Helloooo... Wake up..! \\Sweet\\\" \\\"morning\\\" \\\"...\n",
       "1097      ham  Don't fret. I'll buy the ovulation test strips...\n",
       "...       ...                                                ...\n",
       "2564      ham  Under the sea, there lays a rock. In the rock,...\n",
       "4445      ham                    Merry christmas to u too annie!\n",
       "2483      ham      Mm have some kanji dont eat anything heavy ok\n",
       "1684      ham                     Do you want bold 2 or bb torch\n",
       "697       ham  meet you in corporation st outside gap ��_ you...\n",
       "\n",
       "[747 rows x 2 columns]"
      ]
     },
     "execution_count": 33,
     "metadata": {},
     "output_type": "execute_result"
    }
   ],
   "source": [
    "df_ham_downsampled"
   ]
  },
  {
   "cell_type": "code",
   "execution_count": 34,
   "id": "d4c9ef02",
   "metadata": {},
   "outputs": [
    {
     "data": {
      "text/html": [
       "<div>\n",
       "<style scoped>\n",
       "    .dataframe tbody tr th:only-of-type {\n",
       "        vertical-align: middle;\n",
       "    }\n",
       "\n",
       "    .dataframe tbody tr th {\n",
       "        vertical-align: top;\n",
       "    }\n",
       "\n",
       "    .dataframe thead th {\n",
       "        text-align: right;\n",
       "    }\n",
       "</style>\n",
       "<table border=\"1\" class=\"dataframe\">\n",
       "  <thead>\n",
       "    <tr style=\"text-align: right;\">\n",
       "      <th></th>\n",
       "      <th>Category</th>\n",
       "      <th>Message</th>\n",
       "    </tr>\n",
       "  </thead>\n",
       "  <tbody>\n",
       "    <tr>\n",
       "      <th>3735</th>\n",
       "      <td>ham</td>\n",
       "      <td>Hows the street where the end of library walk is?</td>\n",
       "    </tr>\n",
       "    <tr>\n",
       "      <th>3336</th>\n",
       "      <td>ham</td>\n",
       "      <td>I AM AT THE GAS STATION. GO THERE.</td>\n",
       "    </tr>\n",
       "    <tr>\n",
       "      <th>2706</th>\n",
       "      <td>ham</td>\n",
       "      <td>S now only i took tablets . Reaction morning o...</td>\n",
       "    </tr>\n",
       "    <tr>\n",
       "      <th>2905</th>\n",
       "      <td>ham</td>\n",
       "      <td>Helloooo... Wake up..! \\Sweet\\\" \\\"morning\\\" \\\"...</td>\n",
       "    </tr>\n",
       "    <tr>\n",
       "      <th>1097</th>\n",
       "      <td>ham</td>\n",
       "      <td>Don't fret. I'll buy the ovulation test strips...</td>\n",
       "    </tr>\n",
       "    <tr>\n",
       "      <th>...</th>\n",
       "      <td>...</td>\n",
       "      <td>...</td>\n",
       "    </tr>\n",
       "    <tr>\n",
       "      <th>5537</th>\n",
       "      <td>spam</td>\n",
       "      <td>Want explicit SEX in 30 secs? Ring 02073162414...</td>\n",
       "    </tr>\n",
       "    <tr>\n",
       "      <th>5540</th>\n",
       "      <td>spam</td>\n",
       "      <td>ASKED 3MOBILE IF 0870 CHATLINES INCLU IN FREE ...</td>\n",
       "    </tr>\n",
       "    <tr>\n",
       "      <th>5547</th>\n",
       "      <td>spam</td>\n",
       "      <td>Had your contract mobile 11 Mnths? Latest Moto...</td>\n",
       "    </tr>\n",
       "    <tr>\n",
       "      <th>5566</th>\n",
       "      <td>spam</td>\n",
       "      <td>REMINDER FROM O2: To get 2.50 pounds free call...</td>\n",
       "    </tr>\n",
       "    <tr>\n",
       "      <th>5567</th>\n",
       "      <td>spam</td>\n",
       "      <td>This is the 2nd time we have tried 2 contact u...</td>\n",
       "    </tr>\n",
       "  </tbody>\n",
       "</table>\n",
       "<p>1494 rows × 2 columns</p>\n",
       "</div>"
      ],
      "text/plain": [
       "     Category                                            Message\n",
       "3735      ham  Hows the street where the end of library walk is?\n",
       "3336      ham                 I AM AT THE GAS STATION. GO THERE.\n",
       "2706      ham  S now only i took tablets . Reaction morning o...\n",
       "2905      ham  Helloooo... Wake up..! \\Sweet\\\" \\\"morning\\\" \\\"...\n",
       "1097      ham  Don't fret. I'll buy the ovulation test strips...\n",
       "...       ...                                                ...\n",
       "5537     spam  Want explicit SEX in 30 secs? Ring 02073162414...\n",
       "5540     spam  ASKED 3MOBILE IF 0870 CHATLINES INCLU IN FREE ...\n",
       "5547     spam  Had your contract mobile 11 Mnths? Latest Moto...\n",
       "5566     spam  REMINDER FROM O2: To get 2.50 pounds free call...\n",
       "5567     spam  This is the 2nd time we have tried 2 contact u...\n",
       "\n",
       "[1494 rows x 2 columns]"
      ]
     },
     "execution_count": 34,
     "metadata": {},
     "output_type": "execute_result"
    }
   ],
   "source": [
    "df_balanced = pd.concat([df_ham_downsampled, df_spam])\n",
    "df_balanced"
   ]
  },
  {
   "cell_type": "code",
   "execution_count": 35,
   "id": "7ad29f11",
   "metadata": {},
   "outputs": [
    {
     "data": {
      "text/plain": [
       "ham     747\n",
       "spam    747\n",
       "Name: Category, dtype: int64"
      ]
     },
     "execution_count": 35,
     "metadata": {},
     "output_type": "execute_result"
    }
   ],
   "source": [
    "df_balanced['Category'].value_counts()"
   ]
  },
  {
   "cell_type": "code",
   "execution_count": null,
   "id": "5a247ed2",
   "metadata": {},
   "outputs": [],
   "source": []
  },
  {
   "cell_type": "code",
   "execution_count": 36,
   "id": "7d0e185e",
   "metadata": {
    "scrolled": false
   },
   "outputs": [
    {
     "data": {
      "text/plain": [
       "3735    0\n",
       "3336    0\n",
       "2706    0\n",
       "2905    0\n",
       "1097    0\n",
       "       ..\n",
       "5537    1\n",
       "5540    1\n",
       "5547    1\n",
       "5566    1\n",
       "5567    1\n",
       "Name: spam, Length: 1494, dtype: uint8"
      ]
     },
     "execution_count": 36,
     "metadata": {},
     "output_type": "execute_result"
    }
   ],
   "source": [
    "df_balanced['spam']=pd.get_dummies(df_balanced['Category']).iloc[:,1];\n",
    "df_balanced['spam']"
   ]
  },
  {
   "cell_type": "code",
   "execution_count": 37,
   "id": "2e304819",
   "metadata": {},
   "outputs": [
    {
     "data": {
      "text/plain": [
       "0    747\n",
       "1    747\n",
       "Name: spam, dtype: int64"
      ]
     },
     "execution_count": 37,
     "metadata": {},
     "output_type": "execute_result"
    }
   ],
   "source": [
    "df_balanced['spam'].value_counts()"
   ]
  },
  {
   "cell_type": "code",
   "execution_count": 38,
   "id": "0452c550",
   "metadata": {},
   "outputs": [
    {
     "data": {
      "text/html": [
       "<div>\n",
       "<style scoped>\n",
       "    .dataframe tbody tr th:only-of-type {\n",
       "        vertical-align: middle;\n",
       "    }\n",
       "\n",
       "    .dataframe tbody tr th {\n",
       "        vertical-align: top;\n",
       "    }\n",
       "\n",
       "    .dataframe thead th {\n",
       "        text-align: right;\n",
       "    }\n",
       "</style>\n",
       "<table border=\"1\" class=\"dataframe\">\n",
       "  <thead>\n",
       "    <tr style=\"text-align: right;\">\n",
       "      <th></th>\n",
       "      <th>Category</th>\n",
       "      <th>Message</th>\n",
       "      <th>spam</th>\n",
       "    </tr>\n",
       "  </thead>\n",
       "  <tbody>\n",
       "    <tr>\n",
       "      <th>4951</th>\n",
       "      <td>spam</td>\n",
       "      <td>Welcome to Select, an O2 service with added be...</td>\n",
       "      <td>1</td>\n",
       "    </tr>\n",
       "    <tr>\n",
       "      <th>3005</th>\n",
       "      <td>ham</td>\n",
       "      <td>Also hi wesley how've you been</td>\n",
       "      <td>0</td>\n",
       "    </tr>\n",
       "    <tr>\n",
       "      <th>104</th>\n",
       "      <td>ham</td>\n",
       "      <td>Umma my life and vava umma love you lot dear</td>\n",
       "      <td>0</td>\n",
       "    </tr>\n",
       "    <tr>\n",
       "      <th>2790</th>\n",
       "      <td>spam</td>\n",
       "      <td>U�۪ve Bin Awarded �50 to Play 4 Instant Cash. ...</td>\n",
       "      <td>1</td>\n",
       "    </tr>\n",
       "    <tr>\n",
       "      <th>5127</th>\n",
       "      <td>ham</td>\n",
       "      <td>Cuz ibored. And don wanna study</td>\n",
       "      <td>0</td>\n",
       "    </tr>\n",
       "  </tbody>\n",
       "</table>\n",
       "</div>"
      ],
      "text/plain": [
       "     Category                                            Message  spam\n",
       "4951     spam  Welcome to Select, an O2 service with added be...     1\n",
       "3005      ham                     Also hi wesley how've you been     0\n",
       "104       ham       Umma my life and vava umma love you lot dear     0\n",
       "2790     spam  U�۪ve Bin Awarded �50 to Play 4 Instant Cash. ...     1\n",
       "5127      ham                    Cuz ibored. And don wanna study     0"
      ]
     },
     "execution_count": 38,
     "metadata": {},
     "output_type": "execute_result"
    }
   ],
   "source": [
    "df_balanced.sample(5)"
   ]
  },
  {
   "cell_type": "code",
   "execution_count": 39,
   "id": "b3e03b60",
   "metadata": {},
   "outputs": [],
   "source": [
    "#Split into training and Testing data set:\n",
    "\n",
    "from sklearn.model_selection import train_test_split\n",
    "\n",
    "X_train, X_test, y_train, y_test = train_test_split(df_balanced['Message'],df_balanced['spam'], stratify=df_balanced['spam'])"
   ]
  },
  {
   "cell_type": "code",
   "execution_count": null,
   "id": "4fb4961d",
   "metadata": {},
   "outputs": [],
   "source": [
    "\n"
   ]
  },
  {
   "cell_type": "code",
   "execution_count": 40,
   "id": "539ef682",
   "metadata": {},
   "outputs": [],
   "source": [
    "bert_preprocess = hub.KerasLayer(\"https://tfhub.dev/tensorflow/bert_en_uncased_preprocess/3\")\n",
    "bert_encoder = hub.KerasLayer(\"https://tfhub.dev/tensorflow/bert_en_uncased_L-12_H-768_A-12/4\")"
   ]
  },
  {
   "cell_type": "code",
   "execution_count": 41,
   "id": "f5a2100c",
   "metadata": {},
   "outputs": [
    {
     "data": {
      "text/plain": [
       "1120"
      ]
     },
     "execution_count": 41,
     "metadata": {},
     "output_type": "execute_result"
    }
   ],
   "source": [
    "\n",
    "len(X_train)"
   ]
  },
  {
   "cell_type": "code",
   "execution_count": 42,
   "id": "d57b05bb",
   "metadata": {},
   "outputs": [],
   "source": [
    "# Bert layers\n",
    "text_input = tf.keras.layers.Input(shape=(), dtype=tf.string, name='text')\n",
    "preprocessed_text = bert_preprocess(text_input)\n",
    "outputs = bert_encoder(preprocessed_text)\n",
    "\n",
    "# Neural network layers\n",
    "l = tf.keras.layers.Dropout(0.1, name=\"dropout\")(outputs['pooled_output'])\n",
    "l = tf.keras.layers.Dense(1, activation='sigmoid', name=\"output\")(l)\n",
    "\n",
    "# Use inputs and outputs to construct a final model\n",
    "model = tf.keras.Model(inputs=[text_input], outputs = [l])"
   ]
  },
  {
   "cell_type": "code",
   "execution_count": 43,
   "id": "3f5afe9a",
   "metadata": {},
   "outputs": [
    {
     "name": "stdout",
     "output_type": "stream",
     "text": [
      "Model: \"model_1\"\n",
      "__________________________________________________________________________________________________\n",
      " Layer (type)                   Output Shape         Param #     Connected to                     \n",
      "==================================================================================================\n",
      " text (InputLayer)              [(None,)]            0           []                               \n",
      "                                                                                                  \n",
      " keras_layer_2 (KerasLayer)     {'input_word_ids':   0           ['text[0][0]']                   \n",
      "                                (None, 128),                                                      \n",
      "                                 'input_type_ids':                                                \n",
      "                                (None, 128),                                                      \n",
      "                                 'input_mask': (Non                                               \n",
      "                                e, 128)}                                                          \n",
      "                                                                                                  \n",
      " keras_layer_3 (KerasLayer)     {'pooled_output': (  109482241   ['keras_layer_2[0][0]',          \n",
      "                                None, 768),                       'keras_layer_2[0][1]',          \n",
      "                                 'default': (None,                'keras_layer_2[0][2]']          \n",
      "                                768),                                                             \n",
      "                                 'sequence_output':                                               \n",
      "                                 (None, 128, 768),                                                \n",
      "                                 'encoder_outputs':                                               \n",
      "                                 [(None, 128, 768),                                               \n",
      "                                 (None, 128, 768),                                                \n",
      "                                 (None, 128, 768),                                                \n",
      "                                 (None, 128, 768),                                                \n",
      "                                 (None, 128, 768),                                                \n",
      "                                 (None, 128, 768),                                                \n",
      "                                 (None, 128, 768),                                                \n",
      "                                 (None, 128, 768),                                                \n",
      "                                 (None, 128, 768),                                                \n",
      "                                 (None, 128, 768),                                                \n",
      "                                 (None, 128, 768),                                                \n",
      "                                 (None, 128, 768)]}                                               \n",
      "                                                                                                  \n",
      " dropout (Dropout)              (None, 768)          0           ['keras_layer_3[0][13]']         \n",
      "                                                                                                  \n",
      " output (Dense)                 (None, 1)            769         ['dropout[0][0]']                \n",
      "                                                                                                  \n",
      "==================================================================================================\n",
      "Total params: 109,483,010\n",
      "Trainable params: 769\n",
      "Non-trainable params: 109,482,241\n",
      "__________________________________________________________________________________________________\n"
     ]
    }
   ],
   "source": [
    "model.summary()"
   ]
  },
  {
   "cell_type": "code",
   "execution_count": 44,
   "id": "c78d706f",
   "metadata": {},
   "outputs": [],
   "source": [
    "model.compile(optimizer='adam',\n",
    "              loss='binary_crossentropy',\n",
    "              metrics=['accuracy'])"
   ]
  },
  {
   "cell_type": "code",
   "execution_count": null,
   "id": "61cde891",
   "metadata": {},
   "outputs": [],
   "source": []
  },
  {
   "cell_type": "code",
   "execution_count": 45,
   "id": "f5f0d596",
   "metadata": {
    "scrolled": true
   },
   "outputs": [
    {
     "name": "stdout",
     "output_type": "stream",
     "text": [
      "Epoch 1/10\n",
      "35/35 [==============================] - 327s 8s/step - loss: 0.5842 - accuracy: 0.7464\n",
      "Epoch 2/10\n",
      "35/35 [==============================] - 288s 8s/step - loss: 0.4740 - accuracy: 0.8473\n",
      "Epoch 3/10\n",
      "35/35 [==============================] - 288s 8s/step - loss: 0.4248 - accuracy: 0.8500\n",
      "Epoch 4/10\n",
      "35/35 [==============================] - 288s 8s/step - loss: 0.3777 - accuracy: 0.8777\n",
      "Epoch 5/10\n",
      "35/35 [==============================] - 287s 8s/step - loss: 0.3473 - accuracy: 0.8920\n",
      "Epoch 6/10\n",
      "35/35 [==============================] - 288s 8s/step - loss: 0.3286 - accuracy: 0.8929\n",
      "Epoch 7/10\n",
      "35/35 [==============================] - 288s 8s/step - loss: 0.3073 - accuracy: 0.8982\n",
      "Epoch 8/10\n",
      "35/35 [==============================] - 300s 9s/step - loss: 0.2997 - accuracy: 0.9107\n",
      "Epoch 9/10\n",
      "35/35 [==============================] - 294s 8s/step - loss: 0.2808 - accuracy: 0.9107\n",
      "Epoch 10/10\n",
      "35/35 [==============================] - 289s 8s/step - loss: 0.2721 - accuracy: 0.9134\n"
     ]
    },
    {
     "data": {
      "text/plain": [
       "<keras.callbacks.History at 0x1f2228a7c40>"
      ]
     },
     "execution_count": 45,
     "metadata": {},
     "output_type": "execute_result"
    }
   ],
   "source": [
    "model.fit(X_train, y_train, epochs=10)"
   ]
  },
  {
   "cell_type": "code",
   "execution_count": 46,
   "id": "fee57e59",
   "metadata": {},
   "outputs": [
    {
     "name": "stdout",
     "output_type": "stream",
     "text": [
      "12/12 [==============================] - 104s 8s/step\n"
     ]
    }
   ],
   "source": [
    "y_predicted = model.predict(X_test)"
   ]
  },
  {
   "cell_type": "code",
   "execution_count": 47,
   "id": "e5c4a654",
   "metadata": {},
   "outputs": [
    {
     "data": {
      "text/plain": [
       "array([[0.05868604],\n",
       "       [0.65388286],\n",
       "       [0.21606986],\n",
       "       [0.03101232],\n",
       "       [0.50422823],\n",
       "       [0.08578812],\n",
       "       [0.35097006],\n",
       "       [0.9230536 ],\n",
       "       [0.8949697 ],\n",
       "       [0.63761413],\n",
       "       [0.5422714 ],\n",
       "       [0.88396186],\n",
       "       [0.08615966],\n",
       "       [0.05482065],\n",
       "       [0.88687986],\n",
       "       [0.67826784],\n",
       "       [0.33982772],\n",
       "       [0.06838435],\n",
       "       [0.06165968],\n",
       "       [0.10513464],\n",
       "       [0.8271612 ],\n",
       "       [0.8564848 ],\n",
       "       [0.14047295],\n",
       "       [0.9025954 ],\n",
       "       [0.24800824],\n",
       "       [0.8364605 ],\n",
       "       [0.23710665],\n",
       "       [0.6809351 ],\n",
       "       [0.9638962 ],\n",
       "       [0.02973141],\n",
       "       [0.07326338],\n",
       "       [0.03301296],\n",
       "       [0.8049297 ],\n",
       "       [0.1192528 ],\n",
       "       [0.948433  ],\n",
       "       [0.839236  ],\n",
       "       [0.18805559],\n",
       "       [0.8680349 ],\n",
       "       [0.06964193],\n",
       "       [0.1125729 ],\n",
       "       [0.15147771],\n",
       "       [0.94322115],\n",
       "       [0.6416068 ],\n",
       "       [0.00906616],\n",
       "       [0.5061192 ],\n",
       "       [0.6426238 ],\n",
       "       [0.92071825],\n",
       "       [0.05680054],\n",
       "       [0.9093048 ],\n",
       "       [0.95859236],\n",
       "       [0.9246533 ],\n",
       "       [0.16444933],\n",
       "       [0.9574488 ],\n",
       "       [0.7250015 ],\n",
       "       [0.6484522 ],\n",
       "       [0.04029327],\n",
       "       [0.88350564],\n",
       "       [0.9801211 ],\n",
       "       [0.7149515 ],\n",
       "       [0.93909705],\n",
       "       [0.9280835 ],\n",
       "       [0.15247259],\n",
       "       [0.90634173],\n",
       "       [0.41949305],\n",
       "       [0.75108486],\n",
       "       [0.7319708 ],\n",
       "       [0.05394041],\n",
       "       [0.1197173 ],\n",
       "       [0.6910114 ],\n",
       "       [0.85447955],\n",
       "       [0.9218033 ],\n",
       "       [0.88484657],\n",
       "       [0.7296709 ],\n",
       "       [0.868537  ],\n",
       "       [0.47431272],\n",
       "       [0.85493845],\n",
       "       [0.7909306 ],\n",
       "       [0.06078241],\n",
       "       [0.8244273 ],\n",
       "       [0.1525286 ],\n",
       "       [0.9795093 ],\n",
       "       [0.81258386],\n",
       "       [0.9321275 ],\n",
       "       [0.9455977 ],\n",
       "       [0.3101549 ],\n",
       "       [0.52586854],\n",
       "       [0.53836834],\n",
       "       [0.5710699 ],\n",
       "       [0.94069475],\n",
       "       [0.87417144],\n",
       "       [0.02693695],\n",
       "       [0.3745715 ],\n",
       "       [0.88687986],\n",
       "       [0.09254167],\n",
       "       [0.01331748],\n",
       "       [0.2146447 ],\n",
       "       [0.9402981 ],\n",
       "       [0.9589312 ],\n",
       "       [0.8276332 ],\n",
       "       [0.1304138 ],\n",
       "       [0.04505971],\n",
       "       [0.60582274],\n",
       "       [0.0384303 ],\n",
       "       [0.36882043],\n",
       "       [0.92172134],\n",
       "       [0.97845256],\n",
       "       [0.5136744 ],\n",
       "       [0.85308325],\n",
       "       [0.47612715],\n",
       "       [0.63688606],\n",
       "       [0.02174168],\n",
       "       [0.04673479],\n",
       "       [0.03764019],\n",
       "       [0.47612715],\n",
       "       [0.9085973 ],\n",
       "       [0.2935272 ],\n",
       "       [0.650108  ],\n",
       "       [0.9341799 ],\n",
       "       [0.39378306],\n",
       "       [0.03180508],\n",
       "       [0.5019986 ],\n",
       "       [0.4358337 ],\n",
       "       [0.9728844 ],\n",
       "       [0.93437785],\n",
       "       [0.1583354 ],\n",
       "       [0.0330803 ],\n",
       "       [0.28796676],\n",
       "       [0.8192928 ],\n",
       "       [0.9169555 ],\n",
       "       [0.3263754 ],\n",
       "       [0.10289227],\n",
       "       [0.79001296],\n",
       "       [0.49002275],\n",
       "       [0.21481924],\n",
       "       [0.12726696],\n",
       "       [0.9305008 ],\n",
       "       [0.09210373],\n",
       "       [0.5038717 ],\n",
       "       [0.8949697 ],\n",
       "       [0.05930901],\n",
       "       [0.05065732],\n",
       "       [0.03419496],\n",
       "       [0.07906533],\n",
       "       [0.68601006],\n",
       "       [0.3781041 ],\n",
       "       [0.96300524],\n",
       "       [0.8915776 ],\n",
       "       [0.8708128 ],\n",
       "       [0.88861734],\n",
       "       [0.5092865 ],\n",
       "       [0.05368182],\n",
       "       [0.09180631],\n",
       "       [0.4190696 ],\n",
       "       [0.22553256],\n",
       "       [0.52713823],\n",
       "       [0.9141148 ],\n",
       "       [0.81050074],\n",
       "       [0.07637508],\n",
       "       [0.7659436 ],\n",
       "       [0.6231518 ],\n",
       "       [0.07340249],\n",
       "       [0.83706427],\n",
       "       [0.07840186],\n",
       "       [0.47612715],\n",
       "       [0.11822181],\n",
       "       [0.808269  ],\n",
       "       [0.2811581 ],\n",
       "       [0.8845734 ],\n",
       "       [0.9662962 ],\n",
       "       [0.9639823 ],\n",
       "       [0.65586925],\n",
       "       [0.42527762],\n",
       "       [0.71771693],\n",
       "       [0.9308204 ],\n",
       "       [0.9083346 ],\n",
       "       [0.23592967],\n",
       "       [0.7081245 ],\n",
       "       [0.22087671],\n",
       "       [0.556833  ],\n",
       "       [0.7362952 ],\n",
       "       [0.93386805],\n",
       "       [0.6030446 ],\n",
       "       [0.7862646 ],\n",
       "       [0.82803345],\n",
       "       [0.0871755 ],\n",
       "       [0.1575068 ],\n",
       "       [0.91318536],\n",
       "       [0.0102872 ],\n",
       "       [0.534215  ],\n",
       "       [0.23201476],\n",
       "       [0.5650857 ],\n",
       "       [0.7267563 ],\n",
       "       [0.01961151],\n",
       "       [0.8938193 ],\n",
       "       [0.79431844],\n",
       "       [0.05521506],\n",
       "       [0.16262108],\n",
       "       [0.89143115],\n",
       "       [0.06617425],\n",
       "       [0.84560835],\n",
       "       [0.8992879 ],\n",
       "       [0.39616096],\n",
       "       [0.2728943 ],\n",
       "       [0.8090188 ],\n",
       "       [0.65757215],\n",
       "       [0.13114949],\n",
       "       [0.53534544],\n",
       "       [0.02369164],\n",
       "       [0.2681131 ],\n",
       "       [0.9042025 ],\n",
       "       [0.5605599 ],\n",
       "       [0.7229659 ],\n",
       "       [0.9647939 ],\n",
       "       [0.24405608],\n",
       "       [0.15472955],\n",
       "       [0.8193161 ],\n",
       "       [0.10264244],\n",
       "       [0.06336549],\n",
       "       [0.06780575],\n",
       "       [0.15411139],\n",
       "       [0.9107728 ],\n",
       "       [0.02088423],\n",
       "       [0.5799258 ],\n",
       "       [0.9636651 ],\n",
       "       [0.94193906],\n",
       "       [0.9463404 ],\n",
       "       [0.13766252],\n",
       "       [0.01584899],\n",
       "       [0.9047267 ],\n",
       "       [0.16222592],\n",
       "       [0.9090164 ],\n",
       "       [0.8236053 ],\n",
       "       [0.73755527],\n",
       "       [0.04054751],\n",
       "       [0.88733435],\n",
       "       [0.24247614],\n",
       "       [0.74811274],\n",
       "       [0.48018447],\n",
       "       [0.88098794],\n",
       "       [0.83409554],\n",
       "       [0.7529149 ],\n",
       "       [0.8088311 ],\n",
       "       [0.15382415],\n",
       "       [0.48841032],\n",
       "       [0.0222381 ],\n",
       "       [0.18174204],\n",
       "       [0.7030489 ],\n",
       "       [0.23756872],\n",
       "       [0.03882934],\n",
       "       [0.746258  ],\n",
       "       [0.6434878 ],\n",
       "       [0.2935057 ],\n",
       "       [0.76543325],\n",
       "       [0.9638962 ],\n",
       "       [0.12052497],\n",
       "       [0.15260343],\n",
       "       [0.21875374],\n",
       "       [0.44642568],\n",
       "       [0.9368287 ],\n",
       "       [0.21070488],\n",
       "       [0.9104865 ],\n",
       "       [0.8410485 ],\n",
       "       [0.22076793],\n",
       "       [0.8376031 ],\n",
       "       [0.23983866],\n",
       "       [0.0275127 ],\n",
       "       [0.13108605],\n",
       "       [0.96965474],\n",
       "       [0.7949899 ],\n",
       "       [0.05602571],\n",
       "       [0.6419778 ],\n",
       "       [0.04282851],\n",
       "       [0.14809999],\n",
       "       [0.77687615],\n",
       "       [0.78728986],\n",
       "       [0.18876384],\n",
       "       [0.03079639],\n",
       "       [0.16586553],\n",
       "       [0.8566024 ],\n",
       "       [0.9363909 ],\n",
       "       [0.04275773],\n",
       "       [0.9191203 ],\n",
       "       [0.09218147],\n",
       "       [0.92067534],\n",
       "       [0.20678857],\n",
       "       [0.05443466],\n",
       "       [0.800125  ],\n",
       "       [0.92929375],\n",
       "       [0.05357703],\n",
       "       [0.05681783],\n",
       "       [0.0097545 ],\n",
       "       [0.07669396],\n",
       "       [0.5663732 ],\n",
       "       [0.14012335],\n",
       "       [0.07127965],\n",
       "       [0.12553954],\n",
       "       [0.02059362],\n",
       "       [0.30272907],\n",
       "       [0.97559476],\n",
       "       [0.9152769 ],\n",
       "       [0.13766813],\n",
       "       [0.8735047 ],\n",
       "       [0.7912792 ],\n",
       "       [0.33527222],\n",
       "       [0.67829263],\n",
       "       [0.96641636],\n",
       "       [0.71147025],\n",
       "       [0.22985244],\n",
       "       [0.8008078 ],\n",
       "       [0.296279  ],\n",
       "       [0.04015473],\n",
       "       [0.08185688],\n",
       "       [0.93999434],\n",
       "       [0.9335066 ],\n",
       "       [0.9185582 ],\n",
       "       [0.09448521],\n",
       "       [0.3203801 ],\n",
       "       [0.13169162],\n",
       "       [0.8354376 ],\n",
       "       [0.8752705 ],\n",
       "       [0.8237101 ],\n",
       "       [0.28419533],\n",
       "       [0.4530694 ],\n",
       "       [0.09739979],\n",
       "       [0.93673664],\n",
       "       [0.21824057],\n",
       "       [0.15228854],\n",
       "       [0.04711276],\n",
       "       [0.20653902],\n",
       "       [0.09561037],\n",
       "       [0.37385115],\n",
       "       [0.02359534],\n",
       "       [0.5755952 ],\n",
       "       [0.7470757 ],\n",
       "       [0.61342525],\n",
       "       [0.8188941 ],\n",
       "       [0.84560835],\n",
       "       [0.4784783 ],\n",
       "       [0.5976086 ],\n",
       "       [0.86799043],\n",
       "       [0.19182405],\n",
       "       [0.05691768],\n",
       "       [0.90316755],\n",
       "       [0.03734223],\n",
       "       [0.08561707],\n",
       "       [0.11441173],\n",
       "       [0.9637904 ],\n",
       "       [0.01524476],\n",
       "       [0.23239256],\n",
       "       [0.4340548 ],\n",
       "       [0.955479  ],\n",
       "       [0.04246913],\n",
       "       [0.17168967],\n",
       "       [0.03197051],\n",
       "       [0.12788184],\n",
       "       [0.6783975 ],\n",
       "       [0.03075539],\n",
       "       [0.9484879 ],\n",
       "       [0.15466502],\n",
       "       [0.04599789],\n",
       "       [0.04808545],\n",
       "       [0.08990476],\n",
       "       [0.9492121 ],\n",
       "       [0.9446848 ],\n",
       "       [0.70015657],\n",
       "       [0.7341648 ],\n",
       "       [0.04822206],\n",
       "       [0.6404029 ],\n",
       "       [0.41346377],\n",
       "       [0.17659682],\n",
       "       [0.534215  ],\n",
       "       [0.82784957],\n",
       "       [0.21116674],\n",
       "       [0.01284553]], dtype=float32)"
      ]
     },
     "execution_count": 47,
     "metadata": {},
     "output_type": "execute_result"
    }
   ],
   "source": [
    "y_predicted"
   ]
  },
  {
   "cell_type": "code",
   "execution_count": 48,
   "id": "8d6e4dfb",
   "metadata": {},
   "outputs": [],
   "source": [
    "y_predicted = y_predicted.flatten()"
   ]
  },
  {
   "cell_type": "code",
   "execution_count": 49,
   "id": "db1c8072",
   "metadata": {},
   "outputs": [
    {
     "data": {
      "text/plain": [
       "array([0, 1, 0, 0, 1, 0, 0, 1, 1, 1, 1, 1, 0, 0, 1, 1, 0, 0, 0, 0, 1, 1,\n",
       "       0, 1, 0, 1, 0, 1, 1, 0, 0, 0, 1, 0, 1, 1, 0, 1, 0, 0, 0, 1, 1, 0,\n",
       "       1, 1, 1, 0, 1, 1, 1, 0, 1, 1, 1, 0, 1, 1, 1, 1, 1, 0, 1, 0, 1, 1,\n",
       "       0, 0, 1, 1, 1, 1, 1, 1, 0, 1, 1, 0, 1, 0, 1, 1, 1, 1, 0, 1, 1, 1,\n",
       "       1, 1, 0, 0, 1, 0, 0, 0, 1, 1, 1, 0, 0, 1, 0, 0, 1, 1, 1, 1, 0, 1,\n",
       "       0, 0, 0, 0, 1, 0, 1, 1, 0, 0, 1, 0, 1, 1, 0, 0, 0, 1, 1, 0, 0, 1,\n",
       "       0, 0, 0, 1, 0, 1, 1, 0, 0, 0, 0, 1, 0, 1, 1, 1, 1, 1, 0, 0, 0, 0,\n",
       "       1, 1, 1, 0, 1, 1, 0, 1, 0, 0, 0, 1, 0, 1, 1, 1, 1, 0, 1, 1, 1, 0,\n",
       "       1, 0, 1, 1, 1, 1, 1, 1, 0, 0, 1, 0, 1, 0, 1, 1, 0, 1, 1, 0, 0, 1,\n",
       "       0, 1, 1, 0, 0, 1, 1, 0, 1, 0, 0, 1, 1, 1, 1, 0, 0, 1, 0, 0, 0, 0,\n",
       "       1, 0, 1, 1, 1, 1, 0, 0, 1, 0, 1, 1, 1, 0, 1, 0, 1, 0, 1, 1, 1, 1,\n",
       "       0, 0, 0, 0, 1, 0, 0, 1, 1, 0, 1, 1, 0, 0, 0, 0, 1, 0, 1, 1, 0, 1,\n",
       "       0, 0, 0, 1, 1, 0, 1, 0, 0, 1, 1, 0, 0, 0, 1, 1, 0, 1, 0, 1, 0, 0,\n",
       "       1, 1, 0, 0, 0, 0, 1, 0, 0, 0, 0, 0, 1, 1, 0, 1, 1, 0, 1, 1, 1, 0,\n",
       "       1, 0, 0, 0, 1, 1, 1, 0, 0, 0, 1, 1, 1, 0, 0, 0, 1, 0, 0, 0, 0, 0,\n",
       "       0, 0, 1, 1, 1, 1, 1, 0, 1, 1, 0, 0, 1, 0, 0, 0, 1, 0, 0, 0, 1, 0,\n",
       "       0, 0, 0, 1, 0, 1, 0, 0, 0, 0, 1, 1, 1, 1, 0, 1, 0, 0, 1, 1, 0, 0])"
      ]
     },
     "execution_count": 49,
     "metadata": {},
     "output_type": "execute_result"
    }
   ],
   "source": [
    "import numpy as np\n",
    "\n",
    "y_predicted = np.where(y_predicted > 0.5, 1, 0)\n",
    "y_predicted"
   ]
  },
  {
   "cell_type": "code",
   "execution_count": 50,
   "id": "d574e75a",
   "metadata": {},
   "outputs": [
    {
     "data": {
      "text/plain": [
       "array([[167,  20],\n",
       "       [ 15, 172]], dtype=int64)"
      ]
     },
     "execution_count": 50,
     "metadata": {},
     "output_type": "execute_result"
    }
   ],
   "source": [
    "from sklearn.metrics import confusion_matrix, classification_report\n",
    "\n",
    "cm = confusion_matrix(y_test, y_predicted)\n",
    "cm "
   ]
  },
  {
   "cell_type": "code",
   "execution_count": 51,
   "id": "42b8f532",
   "metadata": {},
   "outputs": [
    {
     "name": "stdout",
     "output_type": "stream",
     "text": [
      "1/1 [==============================] - 4s 4s/step\n",
      "[[0.72859466]\n",
      " [0.8171603 ]\n",
      " [0.7633054 ]\n",
      " [0.15988478]\n",
      " [0.08176429]]\n"
     ]
    }
   ],
   "source": [
    "reviews = [\n",
    "    'Enter a chance to win $5000, hurry up, offer valid until march 31, 2021',\n",
    "    'You are awarded a SiPix Digital Camera! call 09061221061 from landline. Delivery within 28days. T Cs Box177. M221BP. 2yr warranty. 150ppm. 16 . p pÂ£3.99',\n",
    "    'it to 80488. Your 500 free text messages are valid until 31 December 2005.',\n",
    "    'Hey Sam, Are you coming for a cricket game tomorrow',\n",
    "    \"Why don't you wait 'til at least wednesday to see if you get your .\"\n",
    "]\n",
    "t=model.predict(reviews)\n",
    "print(t)"
   ]
  }
 ],
 "metadata": {
  "kernelspec": {
   "display_name": "Python 3",
   "language": "python",
   "name": "python3"
  },
  "language_info": {
   "codemirror_mode": {
    "name": "ipython",
    "version": 3
   },
   "file_extension": ".py",
   "mimetype": "text/x-python",
   "name": "python",
   "nbconvert_exporter": "python",
   "pygments_lexer": "ipython3",
   "version": "3.8.8"
  }
 },
 "nbformat": 4,
 "nbformat_minor": 5
}
